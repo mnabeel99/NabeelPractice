{
 "cells": [
  {
   "cell_type": "code",
   "execution_count": 35,
   "metadata": {},
   "outputs": [
    {
     "name": "stdout",
     "output_type": "stream",
     "text": [
      "Twinkle, twinkle, little star, \n",
      "       How I wonder what you are! \n",
      "              Up above the world so high, \n",
      "              Like a diamond in the sky. \n",
      " Twinkle, twinkle, little star, \n",
      "       How I wonder what you are\n"
     ]
    }
   ],
   "source": [
    "\"\"\"Question no 1 \"\"\"\n",
    "\n",
    "a=\"Twinkle, twinkle, little star,\"\n",
    "b=\"      How I wonder what you are!\"\n",
    "c=\"             Up above the world so high,\"\n",
    "d=\"             Like a diamond in the sky.\"\n",
    "e=\"Twinkle, twinkle, little star,\"\n",
    "f=\"      How I wonder what you are\"\n",
    "print(a,\"\\n\",b,\"\\n\",c,\"\\n\",d,\"\\n\",e,\"\\n\",f)"
   ]
  },
  {
   "cell_type": "code",
   "execution_count": 17,
   "metadata": {},
   "outputs": [
    {
     "name": "stdout",
     "output_type": "stream",
     "text": [
      "Python version\n",
      "3.7.4 (default, Aug  9 2019, 18:34:13) [MSC v.1915 64 bit (AMD64)]\n",
      "Version info.\n",
      "sys.version_info(major=3, minor=7, micro=4, releaselevel='final', serial=0)\n"
     ]
    }
   ],
   "source": [
    "\"\"\"Question no 2 \"\"\"\n",
    "import sys\n",
    "print(\"Python version\")\n",
    "print (sys.version)\n",
    "print(\"Version info.\")\n",
    "print (sys.version_info)\n"
   ]
  },
  {
   "cell_type": "code",
   "execution_count": 20,
   "metadata": {},
   "outputs": [
    {
     "name": "stdout",
     "output_type": "stream",
     "text": [
      "Date: 11/3/19 \n",
      " Time: 1:37 AM\n"
     ]
    }
   ],
   "source": [
    "\"\"\"Question no 3 \"\"\"\n",
    "a=\"1:37 AM\"\n",
    "b=\"11/3/19\"\n",
    "print(\"Date:\",b,\"\\n\",\"Time:\",a)"
   ]
  },
  {
   "cell_type": "code",
   "execution_count": 26,
   "metadata": {},
   "outputs": [
    {
     "name": "stdout",
     "output_type": "stream",
     "text": [
      "Enter a radius value to calculate Area of circle8\n",
      "Area of Circule = 201.088\n"
     ]
    }
   ],
   "source": [
    "\n",
    "\"\"\"Question no 4 \"\"\"\n",
    "a=float(input(\"Enter a radius value to calculate Area of circle\"))\n",
    "b=(3.142)*(a**2)\n",
    "print(\"Area of Circule =\",b)"
   ]
  },
  {
   "cell_type": "code",
   "execution_count": 30,
   "metadata": {},
   "outputs": [
    {
     "name": "stdout",
     "output_type": "stream",
     "text": [
      "Enter first name: Muhammad\n",
      "Enter last name: Nabeel\n",
      "Muhammad Nabeel\n"
     ]
    }
   ],
   "source": [
    "\"\"\"Question no 5 \"\"\"\n",
    "\n",
    "a=input(\"Enter first name: \")\n",
    "b=input(\"Enter last name: \")\n",
    "c=b+\" \"+a\n",
    "print(c)"
   ]
  },
  {
   "cell_type": "code",
   "execution_count": 34,
   "metadata": {},
   "outputs": [
    {
     "name": "stdout",
     "output_type": "stream",
     "text": [
      "Enter your first no: 60\n",
      "Enter your second no: 2\n",
      "YOUR ANS :   62\n"
     ]
    }
   ],
   "source": [
    "\"\"\"Question no 6 \"\"\"\n",
    "\n",
    "a=int(input(\"Enter your first no: \"))\n",
    "b=int(input(\"Enter your second no: \"))\n",
    "print(\"YOUR ANS :  \",a+b)"
   ]
  },
  {
   "cell_type": "code",
   "execution_count": null,
   "metadata": {},
   "outputs": [],
   "source": []
  }
 ],
 "metadata": {
  "kernelspec": {
   "display_name": "Python 3",
   "language": "python",
   "name": "python3"
  },
  "language_info": {
   "codemirror_mode": {
    "name": "ipython",
    "version": 3
   },
   "file_extension": ".py",
   "mimetype": "text/x-python",
   "name": "python",
   "nbconvert_exporter": "python",
   "pygments_lexer": "ipython3",
   "version": "3.7.4"
  }
 },
 "nbformat": 4,
 "nbformat_minor": 2
}
