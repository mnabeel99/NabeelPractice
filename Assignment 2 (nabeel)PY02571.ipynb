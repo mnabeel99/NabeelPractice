{
 "cells": [
  {
   "cell_type": "code",
   "execution_count": 1,
   "metadata": {},
   "outputs": [
    {
     "name": "stdout",
     "output_type": "stream",
     "text": [
      "enter marks out of 10044\n",
      "enter marks out of 10055\n",
      "enter marks out of 10088\n",
      "enter marks out of 10099\n",
      "enter marks out of 10088\n",
      "totalmarks = 374\n",
      "percentage = 74.8\n",
      "grade C\n"
     ]
    }
   ],
   "source": [
    "# question 01\n",
    "marks=[]\n",
    "totalmarks=0;\n",
    "for i in range (5):\n",
    "    x=int(input(\"enter marks out of 100\"))\n",
    "  \n",
    "    marks.append(x)\n",
    "    totalmarks=totalmarks+x\n",
    "\n",
    "print(\"totalmarks =\",totalmarks)  \n",
    "percentage=(totalmarks*100)/500\n",
    "print(\"percentage =\",percentage)\n",
    "if percentage>=90:\n",
    "    print(\"grade A\")\n",
    "elif percentage>=80:\n",
    "    print(\"grade B\")\n",
    "elif percentage>=70:\n",
    "    print(\"grade C\")    \n",
    "elif percentage>=60:\n",
    "    print(\"grade D\") \n",
    "else:\n",
    "    print(\"fail\")"
   ]
  },
  {
   "cell_type": "code",
   "execution_count": 2,
   "metadata": {},
   "outputs": [
    {
     "name": "stdout",
     "output_type": "stream",
     "text": [
      "enter number99\n",
      "odd no\n"
     ]
    }
   ],
   "source": [
    "# question 02\n",
    "x=int(input(\"enter number\"))\n",
    "if x%2==0:\n",
    "    print(\"even no\")\n",
    "else:\n",
    "    print(\"odd no\")\n",
    "    "
   ]
  },
  {
   "cell_type": "code",
   "execution_count": 3,
   "metadata": {},
   "outputs": [
    {
     "name": "stdout",
     "output_type": "stream",
     "text": [
      "5\n"
     ]
    }
   ],
   "source": [
    "# question 03\n",
    "list=[22,21,33,44,55]\n",
    "print(len(list))\n"
   ]
  },
  {
   "cell_type": "code",
   "execution_count": 4,
   "metadata": {},
   "outputs": [
    {
     "name": "stdout",
     "output_type": "stream",
     "text": [
      "sum of list= 85\n"
     ]
    }
   ],
   "source": [
    "# question 04\n",
    "list=[22,21,33,4,5]\n",
    "x=len(list)\n",
    "sum=0\n",
    "for i in range (x):\n",
    "    sum=sum+list[i]\n",
    "print(\"sum of list=\",sum)"
   ]
  },
  {
   "cell_type": "code",
   "execution_count": null,
   "metadata": {},
   "outputs": [],
   "source": []
  }
 ],
 "metadata": {
  "kernelspec": {
   "display_name": "Python 3",
   "language": "python",
   "name": "python3"
  },
  "language_info": {
   "codemirror_mode": {
    "name": "ipython",
    "version": 3
   },
   "file_extension": ".py",
   "mimetype": "text/x-python",
   "name": "python",
   "nbconvert_exporter": "python",
   "pygments_lexer": "ipython3",
   "version": "3.7.4"
  }
 },
 "nbformat": 4,
 "nbformat_minor": 2
}
